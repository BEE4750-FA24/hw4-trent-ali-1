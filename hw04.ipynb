{
 "cells": [
  {
   "cell_type": "markdown",
   "id": "1f9ca328-7409-4f06-9989-57f5289c50e0",
   "metadata": {},
   "source": [
    "# BEE 4750 Homework 4: Linear Programming and Capacity Expansion\n",
    "\n",
    "**Name**:\n",
    "\n",
    "**ID**:\n",
    "\n",
    "> **Due Date**\n",
    ">\n",
    "> Thursday, 11/07/23, 9:00pm\n",
    "\n",
    "## Overview\n",
    "\n",
    "### Instructions\n",
    "\n",
    "-   Problem 1 asks you to formulate and solve a resource allocation\n",
    "    problem using linear programming.\n",
    "-   Problem 2 asks you to formulate, solve, and analyze a standard\n",
    "    generating capacity expansion problem.\n",
    "-   Problem 3 (5750 only) asks you to add a CO<sub>2</sub> constraint to\n",
    "    the capacity expansion problem and identify changes in the resulting\n",
    "    solution.\n",
    "\n",
    "### Load Environment\n",
    "\n",
    "The following code loads the environment and makes sure all needed\n",
    "packages are installed. This should be at the start of most Julia\n",
    "scripts."
   ]
  },
  {
   "cell_type": "code",
   "execution_count": 1,
   "id": "2",
   "metadata": {},
   "outputs": [
    {
     "name": "stderr",
     "output_type": "stream",
     "text": [
      "\u001b[32m\u001b[1m  Activating\u001b[22m\u001b[39m project at `c:\\Users\\aliap\\Cornell\\BEE 4750\\hw4-trent-ali-1`\n"
     ]
    }
   ],
   "source": [
    "import Pkg\n",
    "Pkg.activate(@__DIR__)\n",
    "Pkg.instantiate()"
   ]
  },
  {
   "cell_type": "code",
   "execution_count": 2,
   "id": "4",
   "metadata": {},
   "outputs": [],
   "source": [
    "using JuMP\n",
    "using HiGHS\n",
    "using DataFrames\n",
    "using Plots\n",
    "using Measures\n",
    "using CSV\n",
    "using MarkdownTables"
   ]
  },
  {
   "cell_type": "markdown",
   "id": "95301b87-804f-412b-8301-2b17c375bdb9",
   "metadata": {},
   "source": [
    "## Problems (Total: 50/60 Points)\n",
    "\n",
    "### Problem 1 (20 points)\n",
    "\n",
    "A farmer has access to a pesticide which can be used on corn, soybeans,\n",
    "and wheat fields, and costs \\$70/ha-yr to apply. The crop yields the\n",
    "farmer can obtain following crop yields by applying varying rates of\n",
    "pesticides to the field are shown in\n",
    "<a href=\"#tbl-yields\" class=\"quarto-xref\">Table 1</a>.\n",
    "\n",
    "| Application Rate (kg/ha) | Soybean (kg/ha) | Wheat (kg/ha) | Corn (kg/ha) |\n",
    "|:------------------------:|:---------------:|:-------------:|:------------:|\n",
    "|            0             |      2900       |     3500      |     5900     |\n",
    "|            1             |      3800       |     4100      |     6700     |\n",
    "|            2             |      4400       |     4200      |     7900     |\n",
    "\n",
    "Table 1: Crop yields from applying varying pesticide rates for Problem\n",
    "1.\n",
    "\n",
    "The costs of production, *excluding pesticides*, for each crop, and\n",
    "selling prices, are shown in\n",
    "<a href=\"#tbl-costs\" class=\"quarto-xref\">Table 2</a>.\n",
    "\n",
    "|   Crop   | Production Cost (\\$/ha-yr) | Selling Price (\\$/kg) |\n",
    "|:--------:|:--------------------------:|:---------------------:|\n",
    "| Soybeans |            350             |         0.36          |\n",
    "|  Wheat   |            280             |         0.27          |\n",
    "|   Corn   |            390             |         0.22          |\n",
    "\n",
    "Table 2: Costs of crop production, excluding pesticides, and selling\n",
    "prices for each crop.\n",
    "\n",
    "Recently, environmental authorities have declared that farms cannot have\n",
    "an *average* application rate on soybeans, wheat, and corn which exceeds\n",
    "0.8, 0.7, and 0.6 kg/ha, respectively. The farmer has asked you for\n",
    "advice on how they should plant crops and apply pesticides to maximize\n",
    "profits over 130 total ha while remaining in regulatory compliance if\n",
    "demand for each crop (which is the maximum the market would buy) this\n",
    "year is 250,000 kg?\n",
    "\n",
    "**In this problem**:\n",
    "\n",
    "-   Formulate a linear program for this resource allocation problem,\n",
    "    including clear definitions of decision variable(s) (including\n",
    "    units), objective function(s), and constraint(s) (make sure to\n",
    "    explain functions and constraints with any needed derivations and\n",
    "    explanations). **Tip: Make sure that all of your constraints are\n",
    "    linear**.\n",
    "-   Implement the program in `JuMP.jl` and find the solution. How many\n",
    "    ha should the farmer dedicate to each crop and with what pesticide\n",
    "    application rate(s)? How much profit will the farmer expect to make?\n",
    "-   The farmer has an opportunity to buy an extra 10 ha of land. How\n",
    "    much extra profit would this land be worth to the farmer? Discuss\n",
    "    why this value makes sense and whether you would recommend the\n",
    "    farmer should make the purchase.\n",
    "\n",
    "    \n"
   ]
  },
  {
   "cell_type": "markdown",
   "id": "81b80858",
   "metadata": {},
   "source": [
    "**ANSWER**\n",
    "\n",
    "The below is formulated as a linear program as instructed. In the code, decision variables are labeled $Xj$ for j = 1-9 in order of appearence below. The program was formulated such that it could be run in JuMP.jl. Later, the program was re-solved such that 140 would be available and not 130. Answers to questions will be found in markdown sections and printed outputs.\n",
    "\n",
    "---------------------------------------------------------------------------------------------------------------\n",
    "\n",
    "\n",
    "DECISION VARIABLES: Area of Pesticide Application for each Crop, for each Application Rate (all in ha):\n",
    "\n",
    "Rate = 0, Crop = Soybean: $x_{0,s}$ ; Rate = 0, Crop = Wheat: $x_{0,w}$ ; Rate = 0, Crop = Corn: $x_{0,c}$  \n",
    "\n",
    "Rate = 1, Crop = Soybean: $x_{1,s}$ ; Rate = 1, Crop = Wheat: $x_{1,w}$ ; Rate = 1, Crop = Corn: $x_{1,c}$  \n",
    "\n",
    "Rate = 2, Crop = Soybean: $x_{2,s}$ ; Rate = 2, Crop = Wheat: $x_{2,w}$ ; Rate = 2, Crop = Corn: $x_{2,c}$  \n",
    "\n",
    "PROBLEM FORMULATION:\n",
    "\n",
    "Crop Cost = 350 * ($x_{0,s}$ + $x_{1,s}$+$x_{2,s}$) + 280 * ($x_{0,w}$+$x_{1,w}$+$x_{2,w}$) + 390 * ($x_{0,c}$+$x_{1,c}$+$x_{2,c}$)\n",
    "\n",
    "Pesticide Cost = 70 * (0*$x_{0,s}$ + 1*$x_{1,s}$ + 2*$x_{2,s}$ + 0*$x_{0,w}$ + 1*$x_{1,w}$ + 2*$x_{2,w}$ + 0*$x_{0,c}$ + 1*$x_{1,c}$ + 2*$x_{2,c}$)\n",
    "\n",
    "Crop Revenue = 0.36 * (2900 $x_{0,s}$ + 3800 $x_{1,s}$ + 4400 $x_{2,s}$) + 0.27 * (3500 $x_{0,w}$ + 4100 $x_{1,w}$ + 4200 $x_{2,w}$) + 0.22 * (5900 $x_{0,c}$ + 6700 $x_{1,c}$ + 7900 $x_{2,c}$)\n",
    "\n",
    "MAXIMIZE:\n",
    "\n",
    "{$Revenue_{CROP}$ - $Cost_{CROP}$ - $Cost_{PEST}$}\n",
    "\n",
    "SUBJECT TO:\n",
    "\n",
    "$x_{0,s}$ , $x_{1,s}$ , $x_{2,s}$ , $x_{0,w}$ , $x_{1,w}$ , $x_{2,w}$ , $x_{0,c}$ , $x_{1,c}$ , $x_{2,c}$ $\\geq$ 0\n",
    "\n",
    "($x_{0,s}$ + $x_{1,s}$ + $x_{2,s}$ + $x_{0,w}$ + $x_{1,w}$ + $x_{2,w}$ + $x_{0,c}$ + $x_{1,c}$ + $x_{2,c}$) $\\leq$ 130\n",
    "\n",
    "($x_{1,s}$ + 2*$x_{2,s}$) - 0.8*($x_{0,s}$ + $x_{1,s}$ + $x_{2,s}$) $\\leq$ 0\n",
    "\n",
    "($x_{1,w}$ + 2*$x_{2,w}$) - 0.7*($x_{0,w}$ + $x_{1,w}$ + $x_{2,w}$) $\\leq$ 0\n",
    "\n",
    "($x_{1,c}$ + 2*$x_{2,c}$) - 0.6*($x_{0,c}$ + $x_{1,c}$ + $x_{2,c}$) $\\leq$ 0\n",
    "\n",
    "2900 $x_{0,s}$ + 3800 $x_{1,s}$ + 4400 $x_{2,s}$ $\\leq$ 250000\n",
    "\n",
    "3500 $x_{0,w}$ + 4100 $x_{1,w}$ + 4200 $x_{2,w}$ $\\leq$ 250000\n",
    "\n",
    "5900 $x_{0,c}$ + 6700 $x_{1,c}$ + 7900 $x_{2,c}$ $\\leq$ 250000\n",
    "\n",
    "\n"
   ]
  },
  {
   "cell_type": "code",
   "execution_count": 3,
   "id": "64ad84c8",
   "metadata": {},
   "outputs": [
    {
     "data": {
      "text/latex": [
       "$$ \\begin{aligned}\n",
       "\\max\\quad & 694 X_{1} + 948 X_{2} + 1094 X_{3} + 665.0000000000001 X_{4} + 757 X_{5} + 714 X_{6} + 908 X_{7} + 1014 X_{8} + 1208 X_{9}\\\\\n",
       "\\text{Subject to} \\quad & X_{1} + X_{2} + X_{3} + X_{4} + X_{5} + X_{6} + X_{7} + X_{8} + X_{9} \\leq 130\\\\\n",
       " & -0.8 X_{1} + 0.19999999999999996 X_{2} + 1.2 X_{3} \\leq 0\\\\\n",
       " & -0.7 X_{4} + 0.30000000000000004 X_{5} + 1.3 X_{6} \\leq 0\\\\\n",
       " & -0.6 X_{7} + 0.4 X_{8} + 1.4 X_{9} \\leq 0\\\\\n",
       " & 2900 X_{1} + 3800 X_{2} + 4400 X_{3} \\leq 250000\\\\\n",
       " & 3500 X_{4} + 4100 X_{5} + 4200 X_{6} \\leq 250000\\\\\n",
       " & 5900 X_{7} + 6700 X_{8} + 7900 X_{9} \\leq 250000\\\\\n",
       " & X_{1} \\geq 0\\\\\n",
       " & X_{2} \\geq 0\\\\\n",
       " & X_{3} \\geq 0\\\\\n",
       " & X_{4} \\geq 0\\\\\n",
       " & X_{5} \\geq 0\\\\\n",
       " & X_{6} \\geq 0\\\\\n",
       " & X_{7} \\geq 0\\\\\n",
       " & X_{8} \\geq 0\\\\\n",
       " & X_{9} \\geq 0\\\\\n",
       "\\end{aligned} $$"
      ]
     },
     "metadata": {},
     "output_type": "display_data"
    }
   ],
   "source": [
    "farm_model = Model(HiGHS.Optimizer) # initialize model object\n",
    "@variable(farm_model, X[1:9] >= 0) # non-negativity constraints\n",
    "\n",
    "CropCost = 350 * (X[1] + X[2] + X[3]) + 280 * (X[4] + X[5] + X[6]) + 390 * (X[7] + X[8] + X[9])\n",
    "PesticideCost = 70 * (X[2] + 2*X[3] + X[5] + 2*X[6] + X[8] + 2*X[9])\n",
    "CropRevenue = 0.36 * (2900*X[1] + 3800*X[2] + 4400*X[3]) + 0.27 * (3500*X[4] + 4100*X[5] + 4200*X[6]) + 0.22 * (5900*X[7] + 6700*X[8] + 7900*X[9])\n",
    "\n",
    "@objective(farm_model, Max, CropRevenue-CropCost-PesticideCost)\n",
    "\n",
    "@constraint(farm_model, X[1]+X[2]+X[3]+X[4]+X[5]+X[6]+X[7]+X[8]+X[9] <= 130)\n",
    "@constraint(farm_model, (X[2]+2*X[3])- 0.8*(X[1]+X[2]+X[3]) <= 0)\n",
    "@constraint(farm_model, (X[5]+2*X[6])- 0.7*(X[4]+X[5]+X[6]) <= 0)\n",
    "@constraint(farm_model, (X[8]+2*X[9])- 0.6*(X[7]+X[8]+X[9]) <= 0)\n",
    "@constraint(farm_model, 2900*X[1] + 3800*X[2] + 4400*X[3] <= 250000)\n",
    "@constraint(farm_model, 3500*X[4] + 4100*X[5] + 4200*X[6] <= 250000)\n",
    "@constraint(farm_model, 5900*X[7] + 6700*X[8] + 7900*X[9] <= 250000)\n",
    "\n",
    "print(farm_model)"
   ]
  },
  {
   "cell_type": "code",
   "execution_count": 4,
   "id": "31b2ade0",
   "metadata": {},
   "outputs": [
    {
     "name": "stdout",
     "output_type": "stream",
     "text": [
      "Running HiGHS 1.7.2 (git hash: 5ce7a2753): Copyright (c) 2024 HiGHS under MIT licence terms\n",
      "Coefficient ranges:\n",
      "  Matrix [2e-01, 8e+03]\n",
      "  Cost   [7e+02, 1e+03]\n",
      "  Bound  [0e+00, 0e+00]\n",
      "  RHS    [1e+02, 2e+05]\n",
      "Presolving model\n",
      "7 rows, 9 cols, 27 nonzeros  0s\n",
      "7 rows, 9 cols, 27 nonzeros  0s\n",
      "Presolve : Reductions: rows 7(-0); columns 9(-0); elements 27(-0) - Not reduced\n",
      "Problem not reduced by presolve: solving the LP\n",
      "Using EKK dual simplex solver - serial\n",
      "  Iteration        Objective     Infeasibilities num(sum)\n",
      "          0    -1.8170297740e+02 Ph1: 7(28.3601); Du: 9(181.703) 0s\n",
      "          7     1.1674116702e+05 Pr: 0(0) 0s\n",
      "Model   status      : Optimal\n",
      "Simplex   iterations: 7\n",
      "Objective value     :  1.1674116702e+05\n",
      "HiGHS run time      :          0.01\n"
     ]
    }
   ],
   "source": [
    "optimize!(farm_model)"
   ]
  },
  {
   "cell_type": "code",
   "execution_count": 8,
   "id": "7149ff02",
   "metadata": {},
   "outputs": [
    {
     "name": "stdout",
     "output_type": "stream",
     "text": [
      "Soybean Tot: 69.06077348066297 ha | Wheat Tot: 22.477688057798545 ha | Corn Tot: 38.46153846153848 ha"
     ]
    }
   ],
   "source": [
    "print(\"Soybean Tot: \" * string(value.(X[1]) + value.(X[2]) + value.(X[3])) * \" ha | \")\n",
    "print(\"Wheat Tot: \" * string(value.(X[4]) + value.(X[5]) + value.(X[6])) * \" ha | \")\n",
    "print(\"Corn Tot: \" * string(value.(X[7]) + value.(X[8]) + value.(X[9])) * \" ha\")\n"
   ]
  },
  {
   "cell_type": "code",
   "execution_count": 14,
   "id": "8b34591a",
   "metadata": {},
   "outputs": [
    {
     "name": "stdout",
     "output_type": "stream",
     "text": [
      "Soybean, P = 0, 1, 2 in ha: 13.812154696132593, 55.24861878453038, 0.0"
     ]
    }
   ],
   "source": [
    "print(\"Soybean, P = 0, 1, 2 in ha: \" * string(value.(X[1])) * \", \" * string(value.(X[2])) * \", \" * string(value.(X[3])))"
   ]
  },
  {
   "cell_type": "code",
   "execution_count": 15,
   "id": "2ce314af",
   "metadata": {},
   "outputs": [
    {
     "name": "stdout",
     "output_type": "stream",
     "text": [
      "Wheat, P = 0, 1, 2 in ha: 6.743306417339564, 15.73438164045898, 0.0"
     ]
    }
   ],
   "source": [
    "print(\"Wheat, P = 0, 1, 2 in ha: \" * string(value.(X[4])) * \", \" * string(value.(X[5])) * \", \" * string(value.(X[6])))\n"
   ]
  },
  {
   "cell_type": "code",
   "execution_count": null,
   "id": "53b2de4e",
   "metadata": {},
   "outputs": [
    {
     "name": "stdout",
     "output_type": "stream",
     "text": [
      "Corn, P = 0, 1, 2: 26.923076923076927, 0.0, 11.538461538461554"
     ]
    }
   ],
   "source": [
    "print(\"Corn, P = 0, 1, 2 in ha: \" * string(value.(X[7])) * \", \" * string(value.(X[8])) * \", \" * string(value.(X[9])))"
   ]
  },
  {
   "cell_type": "code",
   "execution_count": 17,
   "id": "19ba4230",
   "metadata": {},
   "outputs": [
    {
     "name": "stdout",
     "output_type": "stream",
     "text": [
      "Total Profit: 116741.16702082448"
     ]
    }
   ],
   "source": [
    "print(\"Total Profit: \" * string(objective_value(farm_model)))"
   ]
  },
  {
   "cell_type": "code",
   "execution_count": 22,
   "id": "ee69c1cf",
   "metadata": {},
   "outputs": [
    {
     "name": "stdout",
     "output_type": "stream",
     "text": [
      "Running HiGHS 1.7.2 (git hash: 5ce7a2753): Copyright (c) 2024 HiGHS under MIT licence terms\n",
      "Coefficient ranges:\n",
      "  Matrix [2e-01, 8e+03]\n",
      "  Cost   [7e+02, 1e+03]\n",
      "  Bound  [0e+00, 0e+00]\n",
      "  RHS    [1e+02, 2e+05]\n",
      "Presolving model\n",
      "7 rows, 9 cols, 27 nonzeros  0s\n",
      "7 rows, 9 cols, 27 nonzeros  0s\n",
      "Presolve : Reductions: rows 7(-0); columns 9(-0); elements 27(-0) - Not reduced\n",
      "Problem not reduced by presolve: solving the LP\n",
      "Using EKK dual simplex solver - serial\n",
      "  Iteration        Objective     Infeasibilities num(sum)\n",
      "          0    -1.8170297740e+02 Ph1: 7(28.3601); Du: 9(181.703) 0s\n",
      "          7     1.2403516702e+05 Pr: 0(0) 0s\n",
      "Model   status      : Optimal\n",
      "Simplex   iterations: 7\n",
      "Objective value     :  1.2403516702e+05\n",
      "HiGHS run time      :          0.00\n",
      "Profit Gained with 10 more acres: 7293.999999999971"
     ]
    }
   ],
   "source": [
    "farm_model2 = Model(HiGHS.Optimizer) # initialize model object\n",
    "@variable(farm_model2, X[1:9] >= 0) # non-negativity constraints\n",
    "\n",
    "CropCost = 350 * (X[1] + X[2] + X[3]) + 280 * (X[4] + X[5] + X[6]) + 390 * (X[7] + X[8] + X[9])\n",
    "PesticideCost = 70 * (X[2] + 2*X[3] + X[5] + 2*X[6] + X[8] + 2*X[9])\n",
    "CropRevenue = 0.36 * (2900*X[1] + 3800*X[2] + 4400*X[3]) + 0.27 * (3500*X[4] + 4100*X[5] + 4200*X[6]) + 0.22 * (5900*X[7] + 6700*X[8] + 7900*X[9])\n",
    "\n",
    "@objective(farm_model2, Max, CropRevenue-CropCost-PesticideCost)\n",
    "\n",
    "@constraint(farm_model2, X[1]+X[2]+X[3]+X[4]+X[5]+X[6]+X[7]+X[8]+X[9] <= 140)\n",
    "@constraint(farm_model2, (X[2]+2*X[3])- 0.8*(X[1]+X[2]+X[3]) <= 0)\n",
    "@constraint(farm_model2, (X[5]+2*X[6])- 0.7*(X[4]+X[5]+X[6]) <= 0)\n",
    "@constraint(farm_model2, (X[8]+2*X[9])- 0.6*(X[7]+X[8]+X[9]) <= 0)\n",
    "@constraint(farm_model2, 2900*X[1] + 3800*X[2] + 4400*X[3] <= 250000)\n",
    "@constraint(farm_model2, 3500*X[4] + 4100*X[5] + 4200*X[6] <= 250000)\n",
    "@constraint(farm_model2, 5900*X[7] + 6700*X[8] + 7900*X[9] <= 250000)\n",
    "\n",
    "optimize!(farm_model2)\n",
    "print(\"Profit Gained with 10 more acres: \" * string(objective_value(farm_model2)-objective_value(farm_model)))"
   ]
  },
  {
   "cell_type": "code",
   "execution_count": 24,
   "id": "f98e31a7",
   "metadata": {},
   "outputs": [
    {
     "name": "stdout",
     "output_type": "stream",
     "text": [
      "New Soybean Tot: 69.06077348066299 ha | New Wheat Tot: 32.47768805779855 ha | New Corn Tot: 38.461538461538446 ha"
     ]
    }
   ],
   "source": [
    "print(\"New Soybean Tot: \" * string(value.(X[1]) + value.(X[2]) + value.(X[3])) * \" ha | \")\n",
    "print(\"New Wheat Tot: \" * string(value.(X[4]) + value.(X[5]) + value.(X[6])) * \" ha | \")\n",
    "print(\"New Corn Tot: \" * string(value.(X[7]) + value.(X[8]) + value.(X[9])) * \" ha\")"
   ]
  },
  {
   "cell_type": "markdown",
   "id": "935bcac1",
   "metadata": {},
   "source": [
    "If the farmer were to buy 10 ha more of land, his profit would be $7,294 higher at $124,035.17 as shown in the outputs above. This makes sense because a more \"relaxed\" contraint on land allows for more land to be used for wheat in particular, which raises profit. I would recommend this choice if the price of the new land is less than $7,294 and there are no other negative externalities. However, with the little information given, it would be irresponsible to give a strong recommendation."
   ]
  },
  {
   "cell_type": "markdown",
   "id": "525e41a7",
   "metadata": {},
   "source": [
    "\n",
    "### Problem 2 (30 points)\n",
    "\n",
    "For this problem, we will use hourly load (demand) data from 2013 in New\n",
    "York’s Zone C (which includes Ithaca). The load data is loaded and\n",
    "plotted below in <a href=\"#fig-demand\" class=\"quarto-xref\">Figure 1</a>."
   ]
  },
  {
   "cell_type": "code",
   "execution_count": null,
   "id": "cell-fig-demand",
   "metadata": {},
   "outputs": [],
   "source": [
    "# load the data, pull Zone C, and reformat the DataFrame\n",
    "NY_demand = DataFrame(CSV.File(\"data/2013_hourly_load_NY.csv\"))\n",
    "rename!(NY_demand, :\"Time Stamp\" => :Date)\n",
    "demand = NY_demand[:, [:Date, :C]]\n",
    "rename!(demand, :C => :Demand)\n",
    "demand[:, :Hour] = 1:nrow(demand)\n",
    "\n",
    "# plot demand\n",
    "plot(demand.Hour, demand.Demand, xlabel=\"Hour of Year\", ylabel=\"Demand (MWh)\", label=:false)"
   ]
  },
  {
   "cell_type": "markdown",
   "id": "093068c3-31fc-4cff-8844-acf115d23ef2",
   "metadata": {},
   "source": [
    "Next, we load the generator data, shown in\n",
    "<a href=\"#tbl-generators\" class=\"quarto-xref\">Table 3</a>. This data\n",
    "includes fixed costs (\\$/MW installed), variable costs (\\$/MWh\n",
    "generated), and CO<sub>2</sub> emissions intensity (tCO<sub>2</sub>/MWh\n",
    "generated)."
   ]
  },
  {
   "cell_type": "code",
   "execution_count": null,
   "id": "2be2db0e-b9d6-4c46-b0cd-72a7b94257d3",
   "metadata": {},
   "outputs": [],
   "source": [
    "gens = DataFrame(CSV.File(\"data/generators.csv\"))"
   ]
  },
  {
   "cell_type": "markdown",
   "id": "3393bcbd-c9db-49c8-8df2-4fbd18e2ef7a",
   "metadata": {},
   "source": [
    "Finally, we load the hourly solar and wind capacity factors, which are\n",
    "plotted in <a href=\"#fig-cf\" class=\"quarto-xref\">Figure 2</a>. These\n",
    "tell us the fraction of installed capacity which is expected to be\n",
    "available in a given hour for generation (typically based on the average\n",
    "meteorology)."
   ]
  },
  {
   "cell_type": "code",
   "execution_count": null,
   "id": "402cb6be-4e9b-47ff-94d8-7bcf34db5e1f",
   "metadata": {
    "layout-nrow": 2
   },
   "outputs": [],
   "source": [
    "# load capacify factors into a DataFrame\n",
    "cap_factor = DataFrame(CSV.File(\"data/wind_solar_capacity_factors.csv\"))\n",
    "\n",
    "# plot January capacity factors\n",
    "p1 = plot(cap_factor.Wind[1:(24*31)], label=\"Wind\")\n",
    "plot!(cap_factor.Solar[1:(24*31)], label=\"Solar\")\n",
    "xaxis!(\"Hour of the Month\")\n",
    "yaxis!(\"Capacity Factor\")\n",
    "\n",
    "p2 = plot(cap_factor.Wind[4344:4344+(24*31)], label=\"Wind\")\n",
    "plot!(cap_factor.Solar[4344:4344+(24*31)], label=\"Solar\")\n",
    "xaxis!(\"Hour of the Month\")\n",
    "yaxis!(\"Capacity Factor\")\n",
    "\n",
    "display(p1)\n",
    "display(p2)"
   ]
  },
  {
   "cell_type": "markdown",
   "id": "937504b4-b01f-4e1c-893a-39af537a2b63",
   "metadata": {},
   "source": [
    "You have been asked to develop a generating capacity expansion plan for\n",
    "the utility in Riley County, NY, which currently has no existing\n",
    "electrical generation infrastructure. The utility can build any of the\n",
    "following plant types: geothermal, coal, natural gas combined cycle gas\n",
    "turbine (CCGT), natural gas combustion turbine (CT), solar, and wind.\n",
    "\n",
    "While coal, CCGT, and CT plants can generate at their full installed\n",
    "capacity, geothermal plants operate at maximum 85% capacity, and solar\n",
    "and wind available capacities vary by the hour depend on the expected\n",
    "meteorology. The utility will also penalize any non-served demand at a\n",
    "rate of \\$10,000/MWh.\n",
    "\n",
    "**In this problem**:\n",
    "\n",
    "-   Formulate a linear program for this capacity expansion problem,\n",
    "    including clear definitions of decision variable(s) (including\n",
    "    units), objective function(s), and constraint(s) (make sure to\n",
    "    explain functions and constraints with any needed derivations and\n",
    "    explanations).\n",
    "-   Implement your linear program in `JuMP.jl`. Find the optimal\n",
    "    solution. How much should the utility build of each type of\n",
    "    generating plant? What will the total cost be? How much energy will\n",
    "    be non-served?\n",
    "-   What fraction of annual generation does each plant type produce? How\n",
    "    does this compare to the breakdown of built capacity that you found\n",
    "    in Problem 1.5? Do these results make sense given the generator\n",
    "    data?\n",
    "-   Make a plot of the electricity price in each hour. Discuss any\n",
    "    trends that you see.\n",
    "\n",
    "> **Significant Digits**\n",
    ">\n",
    "> Use `round(x; digits=n)` to report values to the appropriate\n",
    "> precision! If your number is on a different order of magnitude and you\n",
    "> want to round to a certain number of significant digits, you can use\n",
    "> `round(x; sigdigits=n)`.\n",
    "\n",
    "> **Getting Variable Output Values**\n",
    ">\n",
    "> `value.(x)` will report the values of a `JuMP` variable `x`, but it\n",
    "> will return a special container which holds other information about\n",
    "> `x` that is useful for `JuMP`. This means that you can’t use this\n",
    "> output directly for further calculations. To just extract the values,\n",
    "> use `value.(x).data`.\n",
    "\n",
    "> **Suppressing Model Command Output**\n",
    ">\n",
    "> The output of specifying model components (variable or constraints)\n",
    "> can be quite large for this problem because of the number of time\n",
    "> periods. If you end a cell with an `@variable` or `@constraint`\n",
    "> command, I *highly* recommend suppressing output by adding a\n",
    "> semi-colon after the last command, or you might find that your\n",
    "> notebook crashes.\n",
    "\n",
    "### Problem 3 (10 points)\n",
    "\n",
    "**This problem is only required for students in BEE 5750**.\n",
    "\n",
    "The NY state legislature is considering enacting an annual\n",
    "CO<sub>2</sub> limit, which for the utility would limit the emissions in\n",
    "its footprint to 1.5 MtCO<sub>2</sub>/yr.\n",
    "\n",
    "**In this problem**:\n",
    "\n",
    "-   Reformulate your linear program from Problem 2 with any necessary\n",
    "    changes to capture the CO<sub>2</sub> limit.\n",
    "-   Implement the new optimization problem and find the optimal\n",
    "    solution. How much should the utility build of each type of\n",
    "    generating plant? What is different from your plan from Problem 1?\n",
    "    Do these changes make sense?\n",
    "-   What would the value to the utility be of allowing it to emit an\n",
    "    additional 1000 tCO<sub>2</sub>/yr? An additional 5000?"
   ]
  },
  {
   "cell_type": "markdown",
   "id": "4f454cd1-66ed-4951-bc25-4b6798ad49bc",
   "metadata": {},
   "source": [
    "## References\n",
    "\n",
    "List any external references consulted, including classmates."
   ]
  }
 ],
 "metadata": {
  "kernel_info": {
   "name": "julia"
  },
  "kernelspec": {
   "display_name": "Julia 1.10.4",
   "language": "julia",
   "name": "julia-1.10"
  },
  "language_info": {
   "file_extension": ".jl",
   "mimetype": "application/julia",
   "name": "julia",
   "version": "1.10.4"
  }
 },
 "nbformat": 4,
 "nbformat_minor": 5
}
